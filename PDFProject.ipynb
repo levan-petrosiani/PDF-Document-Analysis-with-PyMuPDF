{
 "cells": [
  {
   "cell_type": "markdown",
   "id": "53e0faac",
   "metadata": {},
   "source": [
    "#### Project: PDF Document Analysis with PyMuPDF\n",
    "This project demonstrates how to use Python to extract metadata and locate key sections in scientific or technical PDFs using the PyMuPDF library."
   ]
  },
  {
   "cell_type": "code",
   "execution_count": 1,
   "id": "536bdd53",
   "metadata": {},
   "outputs": [
    {
     "name": "stdout",
     "output_type": "stream",
     "text": [
      "{'format': 'PDF 1.4', 'title': '', 'author': '', 'subject': '', 'keywords': '', 'creator': '', 'producer': 'macOS Version 12.5.1 (Build 21G83) Quartz PDFContext', 'creationDate': \"D:20230109191901Z00'00'\", 'modDate': \"D:20230109191901Z00'00'\", 'trapped': '', 'encryption': None}\n"
     ]
    }
   ],
   "source": [
    "import pymupdf\n",
    "\n",
    "doc = pymupdf.open(\"Poster.pdf\")\n",
    "\n",
    "print(doc.metadata)"
   ]
  },
  {
   "cell_type": "code",
   "execution_count": 2,
   "id": "c9715ef6",
   "metadata": {},
   "outputs": [
    {
     "name": "stdout",
     "output_type": "stream",
     "text": [
      "Rect(1676.85205078125, 1877.840087890625, 1868.595947265625, 1913.5841064453125)\n"
     ]
    }
   ],
   "source": [
    "page = doc[0]\n",
    "\n",
    "cropstart = page.search_for(\"Conclusions\")\n",
    "\n",
    "for rect in cropstart:\n",
    "    print(rect)"
   ]
  },
  {
   "cell_type": "code",
   "execution_count": 3,
   "id": "1d47b57c",
   "metadata": {},
   "outputs": [
    {
     "name": "stdout",
     "output_type": "stream",
     "text": [
      "Rect(1704.208984375, 2485.2998046875, 1993.9866943359375, 2516.575927734375)\n"
     ]
    }
   ],
   "source": [
    "cropend = page.search_for(\"to improve MAG yields.\")\n",
    "\n",
    "for rect in cropend:\n",
    "    print(rect)"
   ]
  },
  {
   "cell_type": "code",
   "execution_count": 18,
   "id": "46e5679e",
   "metadata": {},
   "outputs": [
    {
     "name": "stdout",
     "output_type": "stream",
     "text": [
      "Rect(1676.85205078125, 1877.840087890625, 2393.9866943359375, 2516.575927734375)\n"
     ]
    }
   ],
   "source": [
    "rx0 = cropstart[0].x0\n",
    "ry0 = cropstart[0].y0\n",
    "\n",
    "rx1 = cropend[0].x1 + 400\n",
    "ry1 = cropend[0].y1\n",
    "\n",
    "cr = pymupdf.Rect(rx0, ry0, rx1, ry1)\n",
    "print(cr)"
   ]
  },
  {
   "cell_type": "code",
   "execution_count": 19,
   "id": "af8ee54c",
   "metadata": {},
   "outputs": [
    {
     "name": "stdout",
     "output_type": "stream",
     "text": [
      "Conclusions\n",
      "\n",
      "• PacBio HiFi sequencing offers major advantages\n",
      "  for metagenome assembly and MAG recovery.\n",
      "• Recent studies demonstrate single-contig, complete\n",
      " MAGs can be assembled from HiFi reads.1,3,4,5\n",
      "• Most binning methods assume genomes are\n",
      "  fragmented. HiFi metagenome assemblies can violate\n",
      "   this assumption, leading to unexpected behavior.\n",
      "• HiFi-MAG-Pipeline automates key steps to obtain HQ\n",
      " MAGs from long-read metagenome assemblies.\n",
      "• Up to 64% increase in total MAGs and 100% increase\n",
      "   in single-contig circular MAGs using the custom binning\n",
      "  strategy in HiFi-MAG-Pipeline.\n",
      "• The mis-binning of single-contig, complete circular\n",
      " MAGs is a pervasive problem for long-read assemblies.\n",
      "• Higher sequencing throughput with Revio is expected\n",
      "  to improve MAG yields.\n"
     ]
    }
   ],
   "source": [
    "diagram = page.get_text(\"text\", clip=cr, sort=True)\n",
    "\n",
    "print(diagram)"
   ]
  }
 ],
 "metadata": {
  "kernelspec": {
   "display_name": "base",
   "language": "python",
   "name": "python3"
  },
  "language_info": {
   "codemirror_mode": {
    "name": "ipython",
    "version": 3
   },
   "file_extension": ".py",
   "mimetype": "text/x-python",
   "name": "python",
   "nbconvert_exporter": "python",
   "pygments_lexer": "ipython3",
   "version": "3.11.7"
  }
 },
 "nbformat": 4,
 "nbformat_minor": 5
}
